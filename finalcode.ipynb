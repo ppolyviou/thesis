{
 "cells": [
  {
   "cell_type": "code",
   "execution_count": 144,
   "metadata": {},
   "outputs": [],
   "source": [
    "import pandas as pd\n",
    "import numpy as np\n",
    "import matplotlib.pyplot as plt\n",
    "from datetime import datetime\n",
    "\n",
    "import datetime as dt\n",
    "import tensorflow as tf\n",
    "from tensorflow import keras\n",
    "\n",
    "from sklearn.preprocessing import StandardScaler,MinMaxScaler\n",
    "from sklearn.model_selection import train_test_split\n",
    "from sklearn.model_selection import TimeSeriesSplit\n",
    "\n",
    "from keras.regularizers import l2\n",
    "from keras.optimizers import Adadelta\n",
    "from keras.layers import GRU, Dense, LSTM\n",
    "from keras.callbacks import EarlyStopping"
   ]
  },
  {
   "cell_type": "code",
   "execution_count": 145,
   "metadata": {},
   "outputs": [],
   "source": [
    "df_stoxx = pd.read_csv('EUROSTOXX50.csv',sep=',').replace(',','',regex=True)# Use the `data` function from `pandas_datareader` to fetch the data\n",
    "df_dax = pd.read_csv('DAX.csv',sep=',').replace(',','',regex=True)\n",
    "df_bund = pd.read_csv('BUND.csv',sep=',').replace(',','',regex=True)"
   ]
  },
  {
   "cell_type": "code",
   "execution_count": 146,
   "metadata": {},
   "outputs": [
    {
     "name": "stdout",
     "output_type": "stream",
     "text": [
      "all good\n"
     ]
    }
   ],
   "source": [
    "df_stoxx=df_stoxx.drop('OpenInt',axis=1)\n",
    "df_dax=df_dax.drop('OpenInt',axis=1)\n",
    "df_bund=df_bund.drop('OpenInt',axis=1)\n",
    "\n",
    "print('all good')"
   ]
  },
  {
   "cell_type": "code",
   "execution_count": 147,
   "metadata": {},
   "outputs": [],
   "source": [
    "df_stoxx['VAV'] = df_stoxx['Volume']*0.7\n",
    "df_dax['VAV'] = df_dax['Volume']*0.7\n",
    "df_bund['VAV'] = df_bund['Volume']*0.7"
   ]
  },
  {
   "attachments": {},
   "cell_type": "markdown",
   "metadata": {},
   "source": [
    "Change column names.\n",
    "\n",
    "Current: [Open,High,Low,Last,Volume,Point of Control,Value Area High Value, Value Area Low Value, VAV]\n",
    "\n",
    "Updated: [Last, Point ofControl, Value Area High Value, Value Area Low Value]\n",
    "\n",
    "Use df=df.rename(columns={columnold1:columnnew1,columnold2:columnnew2})"
   ]
  },
  {
   "cell_type": "code",
   "execution_count": 148,
   "metadata": {},
   "outputs": [],
   "source": [
    "df_stoxx = df_stoxx.rename(columns={'Last':'Close','Point of Control':'POC','Value Area High Value':'VAH','Value Area Low Value':'VAL'})\n",
    "df_dax = df_dax.rename(columns={'Last':'Close','Point of Control':'POC','Value Area High Value':'VAH','Value Area Low Value':'VAL'})\n",
    "df_bund = df_bund.rename(columns={'Last':'Close','Point of Control':'POC','Value Area High Value':'VAH','Value Area Low Value':'VAL'})"
   ]
  },
  {
   "cell_type": "code",
   "execution_count": 149,
   "metadata": {},
   "outputs": [
    {
     "name": "stdout",
     "output_type": "stream",
     "text": [
      "0\n",
      "0\n",
      "0\n"
     ]
    }
   ],
   "source": [
    "# Count missing values in each column\n",
    "missing_values_count_stoxx = df_stoxx.isna().sum().sum()\n",
    "print(missing_values_count_stoxx)\n",
    "missing_values_count_dax = df_dax.isna().sum().sum()\n",
    "print(missing_values_count_dax)\n",
    "missing_values_count_bund = df_bund.isna().sum().sum()\n",
    "print(missing_values_count_bund)"
   ]
  },
  {
   "cell_type": "code",
   "execution_count": 150,
   "metadata": {},
   "outputs": [],
   "source": [
    "df_stoxx['Date Time'] = pd.to_datetime(df_stoxx['Date Time'],dayfirst=True) #set dayfirst to True to specify that the first number is the date\n",
    "df_stoxx.set_index('Date Time',inplace=True)\n",
    "\n",
    "df_dax['Date Time'] = pd.to_datetime(df_dax['Date Time'],dayfirst=True) #set dayfirst to True to specify that the first number is the date\n",
    "df_dax.set_index('Date Time',inplace=True)\n",
    "\n",
    "df_bund['Date Time'] = pd.to_datetime(df_bund['Date Time'],dayfirst=True) #set dayfirst to True to specify that the first number is the date\n",
    "df_bund.set_index('Date Time',inplace=True)"
   ]
  },
  {
   "cell_type": "code",
   "execution_count": 151,
   "metadata": {},
   "outputs": [
    {
     "data": {
      "text/html": [
       "<div>\n",
       "<style scoped>\n",
       "    .dataframe tbody tr th:only-of-type {\n",
       "        vertical-align: middle;\n",
       "    }\n",
       "\n",
       "    .dataframe tbody tr th {\n",
       "        vertical-align: top;\n",
       "    }\n",
       "\n",
       "    .dataframe thead th {\n",
       "        text-align: right;\n",
       "    }\n",
       "</style>\n",
       "<table border=\"1\" class=\"dataframe\">\n",
       "  <thead>\n",
       "    <tr style=\"text-align: right;\">\n",
       "      <th></th>\n",
       "      <th>Open</th>\n",
       "      <th>High</th>\n",
       "      <th>Low</th>\n",
       "      <th>Close</th>\n",
       "      <th>Volume</th>\n",
       "      <th>POC</th>\n",
       "      <th>VAH</th>\n",
       "      <th>VAL</th>\n",
       "      <th>VAV</th>\n",
       "    </tr>\n",
       "    <tr>\n",
       "      <th>Date Time</th>\n",
       "      <th></th>\n",
       "      <th></th>\n",
       "      <th></th>\n",
       "      <th></th>\n",
       "      <th></th>\n",
       "      <th></th>\n",
       "      <th></th>\n",
       "      <th></th>\n",
       "      <th></th>\n",
       "    </tr>\n",
       "  </thead>\n",
       "  <tbody>\n",
       "    <tr>\n",
       "      <th>2023-03-02</th>\n",
       "      <td>4229</td>\n",
       "      <td>4268</td>\n",
       "      <td>4180</td>\n",
       "      <td>4240</td>\n",
       "      <td>1055634</td>\n",
       "      <td>4240</td>\n",
       "      <td>4245</td>\n",
       "      <td>4215</td>\n",
       "      <td>738943.8</td>\n",
       "    </tr>\n",
       "    <tr>\n",
       "      <th>2023-03-01</th>\n",
       "      <td>4227</td>\n",
       "      <td>4281</td>\n",
       "      <td>4209</td>\n",
       "      <td>4216</td>\n",
       "      <td>1015304</td>\n",
       "      <td>4218</td>\n",
       "      <td>4253</td>\n",
       "      <td>4209</td>\n",
       "      <td>710712.8</td>\n",
       "    </tr>\n",
       "    <tr>\n",
       "      <th>2023-02-28</th>\n",
       "      <td>4258</td>\n",
       "      <td>4274</td>\n",
       "      <td>4225</td>\n",
       "      <td>4247</td>\n",
       "      <td>981147</td>\n",
       "      <td>4246</td>\n",
       "      <td>4254</td>\n",
       "      <td>4238</td>\n",
       "      <td>686802.9</td>\n",
       "    </tr>\n",
       "    <tr>\n",
       "      <th>2023-02-27</th>\n",
       "      <td>4201</td>\n",
       "      <td>4272</td>\n",
       "      <td>4198</td>\n",
       "      <td>4255</td>\n",
       "      <td>970238</td>\n",
       "      <td>4252</td>\n",
       "      <td>4261</td>\n",
       "      <td>4251</td>\n",
       "      <td>679166.6</td>\n",
       "    </tr>\n",
       "    <tr>\n",
       "      <th>2023-02-24</th>\n",
       "      <td>4281</td>\n",
       "      <td>4290</td>\n",
       "      <td>4175</td>\n",
       "      <td>4201</td>\n",
       "      <td>1258757</td>\n",
       "      <td>4202</td>\n",
       "      <td>4214</td>\n",
       "      <td>4180</td>\n",
       "      <td>881129.9</td>\n",
       "    </tr>\n",
       "  </tbody>\n",
       "</table>\n",
       "</div>"
      ],
      "text/plain": [
       "            Open  High   Low  Close   Volume   POC   VAH   VAL       VAV\n",
       "Date Time                                                               \n",
       "2023-03-02  4229  4268  4180   4240  1055634  4240  4245  4215  738943.8\n",
       "2023-03-01  4227  4281  4209   4216  1015304  4218  4253  4209  710712.8\n",
       "2023-02-28  4258  4274  4225   4247   981147  4246  4254  4238  686802.9\n",
       "2023-02-27  4201  4272  4198   4255   970238  4252  4261  4251  679166.6\n",
       "2023-02-24  4281  4290  4175   4201  1258757  4202  4214  4180  881129.9"
      ]
     },
     "execution_count": 151,
     "metadata": {},
     "output_type": "execute_result"
    }
   ],
   "source": [
    "df_stoxx.head()"
   ]
  },
  {
   "cell_type": "code",
   "execution_count": 152,
   "metadata": {},
   "outputs": [],
   "source": [
    "#REVERSE DATA SEQUENCE\n",
    "df_stoxx=df_stoxx[::-1]\n",
    "df_dax=df_dax[::-1]\n",
    "df_bund=df_bund[::-1]"
   ]
  },
  {
   "cell_type": "code",
   "execution_count": 153,
   "metadata": {},
   "outputs": [
    {
     "data": {
      "text/plain": [
       "Text(0.5, 1.0, 'Bund')"
      ]
     },
     "execution_count": 153,
     "metadata": {},
     "output_type": "execute_result"
    },
    {
     "data": {
      "image/png": "[encoded data removed]",
      "text/plain": [
       "<Figure size 864x432 with 1 Axes>"
      ]
     },
     "metadata": {
      "needs_background": "light"
     },
     "output_type": "display_data"
    },
    {
     "data": {
      "image/png": "[encoded data removed]",
      "text/plain": [
       "<Figure size 864x432 with 1 Axes>"
      ]
     },
     "metadata": {
      "needs_background": "light"
     },
     "output_type": "display_data"
    },
    {
     "data": {
      "image/png": "[encoded data removed]",
      "text/plain": [
       "<Figure size 864x432 with 1 Axes>"
      ]
     },
     "metadata": {
      "needs_background": "light"
     },
     "output_type": "display_data"
    }
   ],
   "source": [
    "df_stoxx.plot(figsize=(12,6),y='Close',color='blue',linewidth=0.7)\n",
    "plt.title('STOXX50')\n",
    "\n",
    "df_dax.plot(figsize=(12,6),y='Close',color='red',linewidth=0.7)\n",
    "plt.title('DAX')\n",
    "\n",
    "df_bund.plot(figsize=(12,6),y='Close',color='green',linewidth=0.7)\n",
    "plt.title('Bund')\n",
    "\n"
   ]
  },
  {
   "attachments": {},
   "cell_type": "markdown",
   "metadata": {},
   "source": [
    "Find the volume values that look wrong in DAX's dataset AND Replace"
   ]
  },
  {
   "cell_type": "code",
   "execution_count": 154,
   "metadata": {},
   "outputs": [
    {
     "name": "stdout",
     "output_type": "stream",
     "text": [
      "Date Time\n",
      "2021-10-01    1\n",
      "Name: Volume, dtype: int64\n",
      "replaced\n"
     ]
    }
   ],
   "source": [
    "zeros = df_dax[df_dax['Volume'] <= 5]\n",
    "print(zeros['Volume'])\n",
    "\n",
    "dax_mean_vol = df_dax['Volume'].mean()\n",
    "\n",
    "for i in range(len(zeros)):\n",
    "    outlier_volume = zeros['Volume'][i]\n",
    "    outlier_VAV = zeros['VAV'][i]\n",
    "    df_dax['Volume']=df_dax['Volume'].replace(outlier_volume,dax_mean_vol)\n",
    "    df_dax['VAV']=df_dax['VAV'].replace(outlier_VAV,dax_mean_vol*0.7)\n",
    "\n",
    "    print('replaced')"
   ]
  },
  {
   "attachments": {},
   "cell_type": "markdown",
   "metadata": {},
   "source": [
    "DATA Details"
   ]
  },
  {
   "cell_type": "code",
   "execution_count": 155,
   "metadata": {},
   "outputs": [
    {
     "name": "stdout",
     "output_type": "stream",
     "text": [
      "STOXX50: (2758, 9)  DAX: (2085, 9)  BUND: (3055, 9)\n",
      "STOXX50:  2012-05-03 00:00:00 - 2023-03-02 00:00:00\n",
      "DAX:  2014-12-15 00:00:00 - 2023-03-02 00:00:00\n",
      "BUND:  2011-03-07 00:00:00 - 2023-03-02 00:00:00\n"
     ]
    }
   ],
   "source": [
    "print('STOXX50:',df_stoxx.shape,' DAX:',df_dax.shape,' BUND:',df_bund.shape)\n",
    "print('STOXX50: ',df_stoxx.index[0],'-',df_stoxx.index[-1])\n",
    "print('DAX: ',df_dax.index[0],'-',df_dax.index[-1])\n",
    "print('BUND: ',df_bund.index[0],'-',df_bund.index[-1])"
   ]
  },
  {
   "attachments": {},
   "cell_type": "markdown",
   "metadata": {},
   "source": [
    "NORMALISATION OF THE DATA"
   ]
  },
  {
   "cell_type": "code",
   "execution_count": 156,
   "metadata": {},
   "outputs": [],
   "source": [
    "#scale the defined columns of the dataframe using the min max out of the selected features\n",
    "def minmaxcalc(min,max,value):\n",
    "    minmaxnorm = (value-min)/(max-min)\n",
    "    return minmaxnorm\n",
    "\n",
    "def minmaxcustom(dataframe, columns):\n",
    "    df_new = dataframe.loc[:,columns]\n",
    "    min_value = df_new.min().min()\n",
    "    max_value = df_new.max().max()\n",
    "    df_norm = pd.DataFrame()\n",
    "\n",
    "    for i in columns:\n",
    "        df_norm[i]= minmaxcalc(min_value,max_value,df_new[i])\n",
    "\n",
    "    return df_norm#print(min_value,max_value)\n",
    "\n",
    "\n",
    "df_stoxx_norm_prices = minmaxcustom(df_stoxx,['Open','High','Low','Close','POC','VAH','VAL'])\n",
    "df_stoxx_norm_volume = minmaxcustom(df_stoxx,['Volume','VAV'])\n",
    "df_stoxx_norm = pd.concat([df_stoxx_norm_prices,df_stoxx_norm_volume],axis=1)\n",
    "\n",
    "df_dax_norm_prices = minmaxcustom(df_dax,['Open','High','Low','Close','POC','VAH','VAL'])\n",
    "df_dax_norm_volume = minmaxcustom(df_dax,['Volume','VAV'])\n",
    "df_dax_norm = pd.concat([df_dax_norm_prices,df_dax_norm_volume],axis=1)\n",
    "\n",
    "df_bund_norm_prices = minmaxcustom(df_bund,['Open','High','Low','Close','POC','VAH','VAL'])\n",
    "df_bund_norm_volume = minmaxcustom(df_bund,['Volume','VAV'])\n",
    "df_bund_norm = pd.concat([df_bund_norm_prices,df_bund_norm_volume],axis=1)\n"
   ]
  },
  {
   "cell_type": "code",
   "execution_count": 172,
   "metadata": {},
   "outputs": [],
   "source": [
    "features_set1 = df_stoxx_norm[:][['Open','High','Low','Close']]\n",
    "features_set2 = df_stoxx_norm[:][['Open','High','Low','Close','Volume']]\n",
    "features_set3 = df_stoxx_norm[:][['Open','High','Low','Close','Volume','POC','VAH','VAL','VAV']]\n",
    "features_set4 = df_stoxx_norm[:][['POC','VAH','VAL','VAV']]\n",
    "\n",
    "target_values = df_stoxx_norm[:]['Close']\n",
    "\n",
    "def input_features(feature_set):\n",
    "    return feature_set\n",
    "\n",
    "input = input_features(features_set1)"
   ]
  },
  {
   "cell_type": "code",
   "execution_count": 173,
   "metadata": {},
   "outputs": [
    {
     "name": "stdout",
     "output_type": "stream",
     "text": [
      "(2207, 4)\n",
      "(2207,)\n"
     ]
    }
   ],
   "source": [
    "n_test_stoxx = int(len(input) * 0.2)  # 20% of the data will be used for testing\n",
    "\n",
    "x_train, y_train = input[:-n_test_stoxx], target_values[:-n_test_stoxx]#, target_values[:-n_test_stoxx], target_values[-n_test_stoxx:]\n",
    "\n",
    "print(x_train.shape)\n",
    "print(y_train.shape)\n",
    "\n"
   ]
  },
  {
   "attachments": {},
   "cell_type": "markdown",
   "metadata": {},
   "source": [
    "SAVE THE TEST SET THAT IS GOING TO EVALUATE THE FINAL MODEL"
   ]
  },
  {
   "cell_type": "code",
   "execution_count": 174,
   "metadata": {},
   "outputs": [
    {
     "name": "stdout",
     "output_type": "stream",
     "text": [
      "(551, 4)\n",
      "(551,)\n"
     ]
    }
   ],
   "source": [
    "x_test, y_test = input[-n_test_stoxx:],target_values[-n_test_stoxx:]\n",
    "\n",
    "print(x_test.shape)\n",
    "print(y_test.shape)"
   ]
  },
  {
   "cell_type": "code",
   "execution_count": 185,
   "metadata": {},
   "outputs": [
    {
     "name": "stdout",
     "output_type": "stream",
     "text": [
      "2207\n",
      "Train_Loss=  0.0004513672029133886\n",
      "Validation score 0.000763740565162152\n",
      "Train_Loss=  0.0005002192920073867\n",
      "Validation score 0.0014241484459489584\n",
      "Train_Loss=  0.0014246526407077909\n",
      "Validation score 0.00197158707305789\n",
      "Train_Loss=  0.0006806548335589468\n",
      "Validation score 0.00047192376223392785\n",
      "Train_Loss=  0.0006766072474420071\n",
      "Validation score 0.0020609968341886997\n",
      "Average validation score: 0.0013384793361183255\n"
     ]
    }
   ],
   "source": [
    "\n",
    "# Split the first part into 5 overlapping train/validation sets\n",
    "n_splits = 5\n",
    "tscv = TimeSeriesSplit(n_splits=n_splits)\n",
    "\n",
    "#get length so we don't need to keep writing\n",
    "length = len(x_train)\n",
    "print(length)\n",
    "\n",
    "x_train_flipped = x_train[::-1]\n",
    "y_train_flipped = y_train[::-1]\n",
    "\n",
    "# Define window size and batch size\n",
    "window_size = 5\n",
    "batch_size = 32\n",
    "\n",
    "fold_scores = []\n",
    "\n",
    "for fold, (train_index, val_index) in enumerate(tscv.split(x_train)):\n",
    "\n",
    "    #df.iloc[row_indexer, column_indexer]\n",
    "    x_train_sequential, y_train_sequential = x_train_flipped.iloc[(length-1)-train_index], y_train_flipped.iloc[(length-1)-train_index]  \n",
    "    x_validation_sequential, y_validation_sequential = x_train_flipped.iloc[(length-1)-val_index], y_train_flipped.iloc[(length-1)-val_index]\n",
    "\n",
    "    #print(x_train_sequential.shape)\n",
    "    #print(x_validation_sequential.shape)\n",
    "    #print((x_validation_sequential.shape)[0]/((x_validation_sequential.shape)[0]+(x_train_sequential.shape)[0]))  \n",
    "    #print('FOLD:',fold,'x_train_sequential',x_train_sequential)\n",
    "    #print('FOLD:',fold,'x_validation_sequential',x_validation_sequential)\n",
    "    \n",
    "    #'''\n",
    "\n",
    "    # RESHAPE TRAIN DATA the input data to create overlapping windows of observations\n",
    "    x_train_windows = []\n",
    "    for i in range(window_size, len(x_train_sequential)):\n",
    "        x_train_windows.append(x_train_sequential[i-window_size:i][:])\n",
    "    x_train_windows = np.array(x_train_windows)\n",
    "    # Prepare the output labels\n",
    "    y_train_windows = y_train_sequential[window_size:]\n",
    "\n",
    "    # RESHAPE VALIDATION DATA\n",
    "    x_validation_windows = []\n",
    "    for i in range(window_size, len(x_validation_sequential)):\n",
    "        x_validation_windows.append(x_validation_sequential[i-window_size:i][:])\n",
    "    x_validation_windows = np.array(x_validation_windows)\n",
    "    # Prepare the output labels\n",
    "    y_validation_windows = y_validation_sequential[window_size:]\n",
    "    \n",
    "\n",
    "    # Define the EarlyStopping callback with a patience of 5 epochs\n",
    "    early_stop = EarlyStopping(monitor='loss', patience=5)\n",
    "\n",
    "    # Define and compile the LSTM model\n",
    "    model = keras.Sequential([\n",
    "        keras.layers.LSTM(units=64,input_shape=(window_size, x_train_sequential.shape[1]),return_sequences=True),\n",
    "        #keras.layers.LSTM(units=64,return_sequences=True),\n",
    "        keras.layers.LSTM(units=256,return_sequences=True),\n",
    "        keras.layers.LSTM(units=64),#64 256 64\n",
    "        keras.layers.Dense(units=1)\n",
    "    ])\n",
    "    model.compile(loss='mse', optimizer='adam')\n",
    "\n",
    "    # Train the model in batches\n",
    "    model.fit(x_train_windows, y_train_windows, batch_size=batch_size, epochs=50, callbacks=[early_stop],verbose=0)#,validation_data=(x_validation_windows, y_validation_windows))\n",
    "\n",
    "    train_loss = model.evaluate(x_train_windows, y_train_windows, verbose=0)\n",
    "    print(\"Train_Loss= \",train_loss)\n",
    "\n",
    "    fold_score = model.evaluate(x_validation_windows, y_validation_windows, verbose=0)\n",
    "    print('Validation score',fold_score)\n",
    "    fold_scores.append(fold_score)\n",
    "\n",
    "# Print average validation score across all folds\n",
    "print('Average validation score:', np.mean(fold_scores))\n",
    "\n",
    "#'''\n"
   ]
  },
  {
   "cell_type": "code",
   "execution_count": 169,
   "metadata": {},
   "outputs": [],
   "source": [
    "#===============CHECK SEQUENCE ORDER==========LOOKS OK\n",
    "'''\n",
    "x_train_windows = []\n",
    "for i in range(window_size, len(x_train_sequential)):\n",
    "    x_train_windows.append(x_train_sequential[i-window_size:i][:])\n",
    "x_train_windows = np.array(x_train_windows)\n",
    "# Prepare the output labels\n",
    "y_train_windows = y_train_sequential[window_size:]\n",
    "\n",
    "print(x_train_sequential.head())\n",
    "\n",
    "print(x_train_windows)\n",
    "print('y_train_sequential')\n",
    "print(y_train_sequential)\n",
    "\n",
    "print('y_train_sequential')\n",
    "print(y_train_windows)\n",
    "'''"
   ]
  },
  {
   "cell_type": "code",
   "execution_count": 181,
   "metadata": {},
   "outputs": [
    {
     "data": {
      "text/plain": [
       "array([[[0.09407812, 0.10583788, 0.08315834, 0.08819824],\n",
       "        [0.08273835, 0.09659807, 0.07265855, 0.07601848],\n",
       "        [0.05291894, 0.09449811, 0.04955901, 0.09113818],\n",
       "        [0.09071819, 0.09239815, 0.06761865, 0.07097858],\n",
       "        [0.07601848, 0.07853843, 0.05417892, 0.06719866]],\n",
       "\n",
       "       [[0.08273835, 0.09659807, 0.07265855, 0.07601848],\n",
       "        [0.05291894, 0.09449811, 0.04955901, 0.09113818],\n",
       "        [0.09071819, 0.09239815, 0.06761865, 0.07097858],\n",
       "        [0.07601848, 0.07853843, 0.05417892, 0.06719866],\n",
       "        [0.07139857, 0.08567829, 0.06257875, 0.07937841]],\n",
       "\n",
       "       [[0.05291894, 0.09449811, 0.04955901, 0.09113818],\n",
       "        [0.09071819, 0.09239815, 0.06761865, 0.07097858],\n",
       "        [0.07601848, 0.07853843, 0.05417892, 0.06719866],\n",
       "        [0.07139857, 0.08567829, 0.06257875, 0.07937841],\n",
       "        [0.07097858, 0.08651827, 0.0650987 , 0.08441831]],\n",
       "\n",
       "       ...,\n",
       "\n",
       "       [[0.61108778, 0.62074759, 0.60184796, 0.60562789],\n",
       "        [0.60352793, 0.61528769, 0.60310794, 0.6102478 ],\n",
       "        [0.61150777, 0.63418732, 0.61150777, 0.63082738],\n",
       "        [0.63082738, 0.6350273 , 0.62368753, 0.62956741],\n",
       "        [0.6350273 , 0.64678706, 0.61066779, 0.62158757]],\n",
       "\n",
       "       [[0.60352793, 0.61528769, 0.60310794, 0.6102478 ],\n",
       "        [0.61150777, 0.63418732, 0.61150777, 0.63082738],\n",
       "        [0.63082738, 0.6350273 , 0.62368753, 0.62956741],\n",
       "        [0.6350273 , 0.64678706, 0.61066779, 0.62158757],\n",
       "        [0.61822764, 0.62788744, 0.61780764, 0.62662747]],\n",
       "\n",
       "       [[0.61150777, 0.63418732, 0.61150777, 0.63082738],\n",
       "        [0.63082738, 0.6350273 , 0.62368753, 0.62956741],\n",
       "        [0.6350273 , 0.64678706, 0.61066779, 0.62158757],\n",
       "        [0.61822764, 0.62788744, 0.61780764, 0.62662747],\n",
       "        [0.62578748, 0.63208736, 0.62074759, 0.62788744]]])"
      ]
     },
     "execution_count": 181,
     "metadata": {},
     "output_type": "execute_result"
    }
   ],
   "source": [
    "x_train_windows"
   ]
  },
  {
   "cell_type": "code",
   "execution_count": null,
   "metadata": {},
   "outputs": [],
   "source": []
  }
 ],
 "metadata": {
  "kernelspec": {
   "display_name": "base",
   "language": "python",
   "name": "python3"
  },
  "language_info": {
   "codemirror_mode": {
    "name": "ipython",
    "version": 3
   },
   "file_extension": ".py",
   "mimetype": "text/x-python",
   "name": "python",
   "nbconvert_exporter": "python",
   "pygments_lexer": "ipython3",
   "version": "3.8.8"
  },
  "orig_nbformat": 4,
  "vscode": {
   "interpreter": {
    "hash": "989fcd2055e85a84fed180a6371ef100fe07c35313c3edb530c94544a844d2d6"
   }
  }
 },
 "nbformat": 4,
 "nbformat_minor": 2
}
